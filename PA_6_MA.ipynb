{
 "cells": [
  {
   "cell_type": "markdown",
   "id": "496b2dce",
   "metadata": {},
   "source": [
    "### Programming Assignment 6\n",
    "### Mason Anderson\n",
    "### Version 1\n",
    "### Fall 2023"
   ]
  },
  {
   "cell_type": "markdown",
   "id": "8d550428",
   "metadata": {},
   "source": [
    "Task1: Write a Python program will calculate the area and perimeter of a triangle using two different functions\n",
    "named calcArea() and calcPerimeter(). Your program should prompt the user for the length of three\n",
    "sides of the triangle. Each function should take the lengths of the sides as arguments and return the output of\n",
    "their respective calculations. As an added feature, set the default values of your parameters to 1 so if you call\n",
    "either function without parameters, it will still produce output) (I recommend using Heron’s Method for\n",
    "calculating the area of a triangle.)"
   ]
  },
  {
   "cell_type": "code",
   "execution_count": 12,
   "id": "9dc2a60a",
   "metadata": {},
   "outputs": [
    {
     "name": "stdout",
     "output_type": "stream",
     "text": [
      "Enter side A of the triangle: 3\n",
      "Enter side B of the triangle: 4\n",
      "Enter side C of the triangle: 5\n",
      "The area of the triangle is 6.0\n",
      "The perimeter of the triangle is 12\n"
     ]
    }
   ],
   "source": [
    "def calcArea():\n",
    "    s=(a+b+c)/2\n",
    "    return math.sqrt(s*(s-a)*(s-b)*(s-c))\n",
    "def calcPerimeter():\n",
    "    return a+b+c\n",
    "a=int(input(\"Enter side A of the triangle: \"))\n",
    "b=int(input(\"Enter side B of the triangle: \"))\n",
    "c=int(input(\"Enter side C of the triangle: \"))\n",
    "print(f\"The area of the triangle is {calcArea()}\")\n",
    "print(f\"The perimeter of the triangle is {calcPerimeter()}\")"
   ]
  },
  {
   "cell_type": "markdown",
   "id": "6b1d2ae1",
   "metadata": {},
   "source": [
    "Task2: Write a Python program to play “Guess the Number”. Your program should generate a random\n",
    "number between 1 and 1000 and then prompt the user for a guess. Possible responses to the guess should be\n",
    "‘Too high! Guess again’, ‘Too low! Guess again’, and ‘Correct!’."
   ]
  },
  {
   "cell_type": "code",
   "execution_count": 17,
   "id": "e7bf7d3a",
   "metadata": {},
   "outputs": [
    {
     "name": "stdout",
     "output_type": "stream",
     "text": [
      "Enter your guess: 50\n",
      "Too low! Guess again\n",
      "Enter your guess: 234\n",
      "Too high! Guess again\n",
      "Enter your guess: 232\n",
      "Too low! Guess again\n",
      "Enter your guess: 233\n",
      "Correct!\n"
     ]
    }
   ],
   "source": [
    "import random\n",
    "random.seed(8)\n",
    "number=random.randint(1,1000)\n",
    "guess=int(input(\"Enter your guess: \"))\n",
    "while guess!=number:\n",
    "        if guess<number:\n",
    "            print(\"Too low! Guess again\")\n",
    "            guess=int(input(\"Enter your guess: \"))\n",
    "        elif guess>number:\n",
    "            print(\"Too high! Guess again\")\n",
    "            guess=int(input(\"Enter your guess: \"))\n",
    "        else: \n",
    "            break\n",
    "print(\"Correct!\")  "
   ]
  },
  {
   "cell_type": "markdown",
   "id": "22581ecd",
   "metadata": {},
   "source": [
    "Task3: Write a Python program to calculate the mean temperature over a set of Fahrenheit temperature\n",
    "values. Your program should calculate the mean in a function called meanTemp()and then print message that\n",
    "indicates the number of days your mean represents and the mean (see below). Your function should be flexible\n",
    "so that you can pass any number of temperatures to it. You do not need to get input from the user; simply\n",
    "include the temperatures in the function parameter list. Here is a sample run of the program:\n"
   ]
  },
  {
   "cell_type": "code",
   "execution_count": 25,
   "id": "dcccdd8b",
   "metadata": {},
   "outputs": [
    {
     "name": "stdout",
     "output_type": "stream",
     "text": [
      "The average temperature for the past 5 days is 71.8\n"
     ]
    }
   ],
   "source": [
    "import math\n",
    "temps=[66,72,82,69,70]\n",
    "def meanTemp(*args):\n",
    "    return sum(temps)/len(temps)\n",
    "\n",
    "print(f\"The average temperature for the past {len(temps)} days is {meanTemp()}\")"
   ]
  },
  {
   "cell_type": "code",
   "execution_count": null,
   "id": "c7078dcd",
   "metadata": {},
   "outputs": [],
   "source": []
  }
 ],
 "metadata": {
  "kernelspec": {
   "display_name": "Python 3 (ipykernel)",
   "language": "python",
   "name": "python3"
  },
  "language_info": {
   "codemirror_mode": {
    "name": "ipython",
    "version": 3
   },
   "file_extension": ".py",
   "mimetype": "text/x-python",
   "name": "python",
   "nbconvert_exporter": "python",
   "pygments_lexer": "ipython3",
   "version": "3.11.4"
  }
 },
 "nbformat": 4,
 "nbformat_minor": 5
}
